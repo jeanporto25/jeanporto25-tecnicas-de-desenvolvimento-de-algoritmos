{
  "nbformat": 4,
  "nbformat_minor": 0,
  "metadata": {
    "colab": {
      "provenance": [],
      "authorship_tag": "ABX9TyP3mTUpB2NbJe9hlSBpkltv",
      "include_colab_link": true
    },
    "kernelspec": {
      "name": "python3",
      "display_name": "Python 3"
    },
    "language_info": {
      "name": "python"
    }
  },
  "cells": [
    {
      "cell_type": "markdown",
      "metadata": {
        "id": "view-in-github",
        "colab_type": "text"
      },
      "source": [
        "<a href=\"https://colab.research.google.com/github/jeanporto25/jeanporto25-tecnicas-de-desenvolvimento-de-algoritmos/blob/main/Untitled1.ipynb\" target=\"_parent\"><img src=\"https://colab.research.google.com/assets/colab-badge.svg\" alt=\"Open In Colab\"/></a>"
      ]
    },
    {
      "cell_type": "code",
      "source": [
        "#Data 29/10/2025\n",
        "#Nome:Jean Teofilo Porto\n",
        "#Disciplina Técnicas de Desenvolvimento de Algoritmos\n",
        "#Exercícios Listas, Tuplas e Dicionários\n",
        "\n",
        "# TAREFA 1\n",
        "numeros = []\n",
        "for i in range(5):\n",
        "    n = int(input(f\"Digite o {i+1}º número inteiro: \"))\n",
        "    numeros.append(n)\n",
        "\n",
        "print(\"Lista de números digitados:\", numeros)\n",
        "\n"
      ],
      "metadata": {
        "colab": {
          "base_uri": "https://localhost:8080/"
        },
        "id": "Uk8cOQoMWPIY",
        "outputId": "960bf7c2-386f-441e-efeb-4a14b7afd949"
      },
      "execution_count": 11,
      "outputs": [
        {
          "output_type": "stream",
          "name": "stdout",
          "text": [
            "Digite o 1º número inteiro: 2\n",
            "Digite o 2º número inteiro: 3\n",
            "Digite o 3º número inteiro: 6\n",
            "Digite o 4º número inteiro: 7\n",
            "Digite o 5º número inteiro: 8\n",
            "Lista de números digitados: [2, 3, 6, 7, 8]\n"
          ]
        }
      ]
    },
    {
      "cell_type": "code",
      "source": [
        "# TAREFA 2\n",
        "lista = [-5, 3, -8, 0, 2]\n",
        "lista_modulo = [abs(x) for x in lista]\n",
        "print(\"Lista com módulo aplicado:\", lista_modulo)\n"
      ],
      "metadata": {
        "colab": {
          "base_uri": "https://localhost:8080/"
        },
        "id": "zqGo2ixPVbCs",
        "outputId": "62653e94-12ef-4f7c-ea6a-f17bda021af4"
      },
      "execution_count": 12,
      "outputs": [
        {
          "output_type": "stream",
          "name": "stdout",
          "text": [
            "Lista com módulo aplicado: [5, 3, 8, 0, 2]\n"
          ]
        }
      ]
    },
    {
      "cell_type": "code",
      "source": [
        "# TAREFA 3\n",
        "lista = [-4, 7, -1, 0, 9, -3]\n",
        "lista_positivos = [x for x in lista if x >= 0]\n",
        "print(\"Lista sem números negativos:\", lista_positivos)\n"
      ],
      "metadata": {
        "colab": {
          "base_uri": "https://localhost:8080/"
        },
        "id": "gr66xkA5WhJ4",
        "outputId": "ec85bc70-a7cb-419d-bff5-e1575502c9eb"
      },
      "execution_count": 13,
      "outputs": [
        {
          "output_type": "stream",
          "name": "stdout",
          "text": [
            "Lista sem números negativos: [7, 0, 9]\n"
          ]
        }
      ]
    },
    {
      "cell_type": "code",
      "source": [
        "# TAREFA 4\n",
        "notas = []\n",
        "while True:\n",
        "    nota = float(input(\"Digite uma nota (negativa para sair): \"))\n",
        "    if nota < 0:\n",
        "        break\n",
        "    notas.append(nota)\n",
        "\n",
        "if notas:\n",
        "    media = sum(notas) / len(notas)\n",
        "    print(f\"Média das notas: {media:.2f}\")\n",
        "else:\n",
        "    print(\"Nenhuma nota foi informada.\")\n"
      ],
      "metadata": {
        "colab": {
          "base_uri": "https://localhost:8080/"
        },
        "id": "-8rWwcDfWmre",
        "outputId": "f286deb9-02ae-438a-840e-e4556a366ed6"
      },
      "execution_count": 14,
      "outputs": [
        {
          "output_type": "stream",
          "name": "stdout",
          "text": [
            "Digite uma nota (negativa para sair): -3\n",
            "Nenhuma nota foi informada.\n"
          ]
        }
      ]
    },
    {
      "cell_type": "code",
      "source": [
        "# TAREFA 5\n",
        "pares = []\n",
        "impares = []\n",
        "\n",
        "while True:\n",
        "    n = int(input(\"Digite um número positivo (negativo para sair): \"))\n",
        "    if n < 0:\n",
        "        break\n",
        "    if n % 2 == 0:\n",
        "        pares.append(n)\n",
        "    else:\n",
        "        impares.append(n)\n",
        "\n",
        "total = len(pares) + len(impares)\n",
        "if total > 0:\n",
        "    porc_pares = len(pares) / total * 100\n",
        "    porc_impares = len(impares) / total * 100\n",
        "    print(f\"Porcentagem de pares: {porc_pares:.1f}%\")\n",
        "    print(f\"Porcentagem de ímpares: {porc_impares:.1f}%\")\n",
        "else:\n",
        "    print(\"Nenhum número foi digitado.\")\n"
      ],
      "metadata": {
        "colab": {
          "base_uri": "https://localhost:8080/"
        },
        "id": "oqr1dIRuWsOy",
        "outputId": "2acc359b-c6e6-43ad-97a2-50badaf8ed56"
      },
      "execution_count": 15,
      "outputs": [
        {
          "output_type": "stream",
          "name": "stdout",
          "text": [
            "Digite um número positivo (negativo para sair): 3\n",
            "Digite um número positivo (negativo para sair): 5\n",
            "Digite um número positivo (negativo para sair): 7\n",
            "Digite um número positivo (negativo para sair): 8\n",
            "Digite um número positivo (negativo para sair): 9\n",
            "Digite um número positivo (negativo para sair): 5\n",
            "Digite um número positivo (negativo para sair): 3\n",
            "Digite um número positivo (negativo para sair): -3\n",
            "Porcentagem de pares: 14.3%\n",
            "Porcentagem de ímpares: 85.7%\n"
          ]
        }
      ]
    },
    {
      "cell_type": "code",
      "source": [
        "# TAREFA 6\n",
        "numeros = []\n",
        "\n",
        "while True:\n",
        "    n = int(input(\"Digite um número positivo (negativo para sair): \"))\n",
        "    if n < 0:\n",
        "        break\n",
        "    if n not in numeros:\n",
        "        numeros.append(n)\n",
        "\n",
        "print(\"Lista sem repetição:\", numeros)\n"
      ],
      "metadata": {
        "colab": {
          "base_uri": "https://localhost:8080/"
        },
        "id": "KlIQTOt6W1KO",
        "outputId": "a816d4fe-a5a0-4d0c-b709-ebcfb3701560"
      },
      "execution_count": 16,
      "outputs": [
        {
          "output_type": "stream",
          "name": "stdout",
          "text": [
            "Digite um número positivo (negativo para sair): 4\n",
            "Digite um número positivo (negativo para sair): 5\n",
            "Digite um número positivo (negativo para sair): -7\n",
            "Lista sem repetição: [4, 5]\n"
          ]
        }
      ]
    },
    {
      "cell_type": "code",
      "source": [
        "# TAREFA 7\n",
        "pessoas = []\n",
        "\n",
        "for i in range(5):\n",
        "    altura = float(input(f\"Digite a altura da {i+1}ª pessoa: \"))\n",
        "    peso = float(input(f\"Digite o peso da {i+1}ª pessoa: \"))\n",
        "    pessoas.append((altura, peso))\n",
        "\n",
        "# Verifica duplicatas\n",
        "duplicado = len(pessoas) != len(set(pessoas))\n",
        "\n",
        "if duplicado:\n",
        "    print(\"Existem pelo menos duas pessoas com mesma altura e peso.\")\n",
        "else:\n",
        "    print(\"Nenhuma pessoa tem mesma altura e peso.\")\n"
      ],
      "metadata": {
        "id": "VIy2B1RGW2V-"
      },
      "execution_count": null,
      "outputs": []
    },
    {
      "cell_type": "code",
      "source": [
        "# TAREFA 8\n",
        "pessoas = []\n",
        "\n",
        "while True:\n",
        "    nome = input(\"Digite o nome da pessoa (ou Enter para sair): \")\n",
        "    if nome == \"\":\n",
        "        break\n",
        "    idade = int(input(\"Digite a idade: \"))\n",
        "    pessoas.append((nome, idade))\n",
        "\n",
        "if pessoas:\n",
        "    mais_velha = max(pessoas, key=lambda x: x[1])\n",
        "    print(f\"A pessoa mais velha é {mais_velha[0]} com {mais_velha[1]} anos.\")\n",
        "else:\n",
        "    print(\"Nenhuma pessoa foi informada.\")\n"
      ],
      "metadata": {
        "colab": {
          "base_uri": "https://localhost:8080/"
        },
        "id": "R-tPZ7Q0W5LA",
        "outputId": "110ab2ab-9f4d-43e9-d0d6-a26ba56f7629"
      },
      "execution_count": null,
      "outputs": [
        {
          "name": "stdout",
          "output_type": "stream",
          "text": [
            "Digite o nome da pessoa (ou Enter para sair): jean\n",
            "Digite a idade: 18\n",
            "Digite o nome da pessoa (ou Enter para sair): joao\n",
            "Digite a idade: 19\n",
            "Digite o nome da pessoa (ou Enter para sair): jon\n",
            "Digite a idade: 25\n",
            "Digite o nome da pessoa (ou Enter para sair): k\n",
            "Digite a idade: 50\n",
            "Digite o nome da pessoa (ou Enter para sair): sair\n",
            "Digite a idade: 28\n"
          ]
        }
      ]
    },
    {
      "cell_type": "code",
      "source": [
        "# TAREFA 9\n",
        "\n",
        "alunos = {\n",
        "    \"Alice\": 8.5,\n",
        "    \"Bruno\": 7.8,\n",
        "    \"Carla\": 9.2,\n",
        "    \"Diego\": 6.9,\n",
        "    \"Eva\": 8.0,\n",
        "    \"Fernando\": 7.5,\n",
        "    \"Gabriela\": 9.0,\n",
        "    \"Henrique\": 6.7,\n",
        "    \"Isabela\": 8.3,\n",
        "    \"João\": 7.2\n",
        "}\n",
        "\n",
        "# Quantos alunos existem?\n",
        "quantidade = len(alunos)\n",
        "\n",
        "# Alguém tirou nota zero?\n",
        "tem_zero = 0 in alunos.values()\n",
        "\n",
        "# Qual foi a menor nota?\n",
        "menor_nota = min(alunos.values())\n",
        "\n",
        "# Qual foi a maior nota?\n",
        "maior_nota = max(alunos.values())\n",
        "\n",
        "print(f\"Quantidade de alunos: {quantidade}\")\n",
        "print(\"Alguém tirou nota zero?\", \"Sim\" if tem_zero else \"Não\")\n",
        "print(f\"Menor nota: {menor_nota}\")\n",
        "print(f\"Maior nota: {maior_nota}\")\n"
      ],
      "metadata": {
        "colab": {
          "base_uri": "https://localhost:8080/"
        },
        "id": "tPVWcKVZXJhY",
        "outputId": "bc45a166-0455-4489-e2e1-2873ac0f0ccd"
      },
      "execution_count": 19,
      "outputs": [
        {
          "output_type": "stream",
          "name": "stdout",
          "text": [
            "Quantidade de alunos: 10\n",
            "Alguém tirou nota zero? Não\n",
            "Menor nota: 6.7\n",
            "Maior nota: 9.2\n"
          ]
        }
      ]
    },
    {
      "cell_type": "code",
      "source": [
        "# TAREFA 10\n",
        "\n",
        "animes = {\n",
        "    \"Naruto\": 220,\n",
        "    \"Jujutsu Kaisen\": 47,\n",
        "    \"Dragon Ball Z\": 291,\n",
        "    \"Death Note\": 37,\n",
        "    \"Fullmetal Alchemist\": 64,\n",
        "    \"Evangelion\": 26,\n",
        "    \"Berserk\": 25,\n",
        "    \"Code Geass\": 50,\n",
        "    \"Akame ga Kill\": 24,\n",
        "    \"Elfen Lied\": 13\n",
        "}\n",
        "\n",
        "# 1️⃣ Total de episódios\n",
        "total_eps = sum(animes.values())\n",
        "print(f\"Total de episódios: {total_eps}\")\n",
        "\n",
        "# 2️⃣ Substitui o número de episódios pelo percentual\n",
        "for nome, eps in animes.items():\n",
        "    animes[nome] = eps / total_eps * 100\n",
        "\n",
        "# 3️⃣ Ordena e imprime em ordem decrescente de percentual\n",
        "animes_ordenados = sorted(animes.items(), key=lambda x: x[1], reverse=True)\n",
        "\n",
        "print(\"\\nPercentual de episódios por anime:\")\n",
        "for nome, pct in animes_ordenados:\n",
        "    print(f\"{nome}: {pct:.2f}%\")\n"
      ],
      "metadata": {
        "colab": {
          "base_uri": "https://localhost:8080/"
        },
        "id": "CmxkKMxxXMGM",
        "outputId": "b3a3b048-3472-4b87-e11e-40fe5ce39ddc"
      },
      "execution_count": 20,
      "outputs": [
        {
          "output_type": "stream",
          "name": "stdout",
          "text": [
            "Total de episódios: 797\n",
            "\n",
            "Percentual de episódios por anime:\n",
            "Dragon Ball Z: 36.51%\n",
            "Naruto: 27.60%\n",
            "Fullmetal Alchemist: 8.03%\n",
            "Code Geass: 6.27%\n",
            "Jujutsu Kaisen: 5.90%\n",
            "Death Note: 4.64%\n",
            "Evangelion: 3.26%\n",
            "Berserk: 3.14%\n",
            "Akame ga Kill: 3.01%\n",
            "Elfen Lied: 1.63%\n"
          ]
        }
      ]
    },
    {
      "cell_type": "code",
      "source": [
        "# TAREFA 11\n",
        "\n",
        "bandas = {\n",
        "    \"Gangrena Gasosa\": [\n",
        "        {\"álbum\": \"Gente Ruim Só Manda Lembrança Pra Quem Não Presta\", \"ano\": 2019},\n",
        "        {\"álbum\": \"Se Deus É 10, Satã É 666\", \"ano\": 1999},\n",
        "        {\"álbum\": \"Welcome to the Macumba\", \"ano\": 1993}\n",
        "    ],\n",
        "    \"Rogério Skylab\": [\n",
        "        {\"álbum\": \"Nas Portas do Cu\", \"ano\": 2023},\n",
        "        {\"álbum\": \"Crítica da Faculdade do Cu\", \"ano\": 2021},\n",
        "        {\"álbum\": \"Cosmos\", \"ano\": 2019}\n",
        "    ],\n",
        "    \"Garotos Podres\": [\n",
        "        {\"álbum\": \"Canções para Ninar\", \"ano\": 2003},\n",
        "        {\"álbum\": \"Com a Corda Toda\", \"ano\": 1997},\n",
        "        {\"álbum\": \"Rock de Subúrbio\", \"ano\": 1995}\n",
        "    ],\n",
        "    \"Massacration\": [\n",
        "        {\"álbum\": \"Live Metal Espancation\", \"ano\": 2017},\n",
        "        {\"álbum\": \"Good Blood Headbanguers\", \"ano\": 2009},\n",
        "        {\"álbum\": \"Gates of Metal Fried Chicken of Death\", \"ano\": 2005}\n",
        "    ],\n",
        "    \"Raimundos\": [\n",
        "        {\"álbum\": \"Cantigas de Roda\", \"ano\": 2014},\n",
        "        {\"álbum\": \"Roda Viva\", \"ano\": 2006},\n",
        "        {\"álbum\": \"Éramos 4\", \"ano\": 2001}\n",
        "    ]\n",
        "}\n",
        "\n",
        "# 1️⃣ Álbum mais antigo\n",
        "mais_antigo = None\n",
        "for banda, albuns in bandas.items():\n",
        "    for a in albuns:\n",
        "        if (mais_antigo is None) or (a[\"ano\"] < mais_antigo[\"ano\"]):\n",
        "            mais_antigo = {\"banda\": banda, **a}\n",
        "\n",
        "print(f\"Álbum mais antigo: '{mais_antigo['álbum']}' ({mais_antigo['ano']}) - {mais_antigo['banda']}\")\n",
        "\n",
        "# 2️⃣ Banda com o maior intervalo entre os álbuns\n",
        "maior_intervalo = 0\n",
        "banda_intervalo = \"\"\n",
        "\n",
        "for banda, albuns in bandas.items():\n",
        "    anos = [a[\"ano\"] for a in albuns]\n",
        "    intervalo = max(anos) - min(anos)\n",
        "    if intervalo > maior_intervalo:\n",
        "        maior_intervalo = intervalo\n",
        "        banda_intervalo = banda\n",
        "\n",
        "print(f\"Banda com maior intervalo entre álbuns: {banda_intervalo} ({maior_intervalo} anos)\")\n",
        "\n",
        "# 3️⃣ Todos os álbuns do mais novo para o mais antigo\n",
        "todos_albuns = []\n",
        "for banda, albuns in bandas.items():\n",
        "    for a in albuns:\n",
        "        todos_albuns.append((a[\"ano\"], a[\"álbum\"], banda))\n",
        "\n",
        "todos_albuns.sort(reverse=True)  # do mais novo para o mais antigo\n",
        "\n",
        "print(\"\\nÁlbuns do mais novo para o mais antigo:\")\n",
        "for ano, nome, banda in todos_albuns:\n",
        "    print(f\"{ano} - {nome} ({banda})\")\n"
      ],
      "metadata": {
        "colab": {
          "base_uri": "https://localhost:8080/"
        },
        "id": "JAmzk0dyXhz8",
        "outputId": "a53c231b-9166-42d6-f70f-5742fdf4aa30"
      },
      "execution_count": 21,
      "outputs": [
        {
          "output_type": "stream",
          "name": "stdout",
          "text": [
            "Álbum mais antigo: 'Welcome to the Macumba' (1993) - Gangrena Gasosa\n",
            "Banda com maior intervalo entre álbuns: Gangrena Gasosa (26 anos)\n",
            "\n",
            "Álbuns do mais novo para o mais antigo:\n",
            "2023 - Nas Portas do Cu (Rogério Skylab)\n",
            "2021 - Crítica da Faculdade do Cu (Rogério Skylab)\n",
            "2019 - Gente Ruim Só Manda Lembrança Pra Quem Não Presta (Gangrena Gasosa)\n",
            "2019 - Cosmos (Rogério Skylab)\n",
            "2017 - Live Metal Espancation (Massacration)\n",
            "2014 - Cantigas de Roda (Raimundos)\n",
            "2009 - Good Blood Headbanguers (Massacration)\n",
            "2006 - Roda Viva (Raimundos)\n",
            "2005 - Gates of Metal Fried Chicken of Death (Massacration)\n",
            "2003 - Canções para Ninar (Garotos Podres)\n",
            "2001 - Éramos 4 (Raimundos)\n",
            "1999 - Se Deus É 10, Satã É 666 (Gangrena Gasosa)\n",
            "1997 - Com a Corda Toda (Garotos Podres)\n",
            "1995 - Rock de Subúrbio (Garotos Podres)\n",
            "1993 - Welcome to the Macumba (Gangrena Gasosa)\n"
          ]
        }
      ]
    }
  ]
}
